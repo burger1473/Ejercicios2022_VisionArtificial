{
  "nbformat": 4,
  "nbformat_minor": 0,
  "metadata": {
    "colab": {
      "name": "classificacion_imagenes.ipynb",
      "provenance": [],
      "collapsed_sections": []
    },
    "kernelspec": {
      "name": "python3",
      "display_name": "Python 3"
    },
    "accelerator": "GPU"
  },
  "cells": [
    {
      "cell_type": "markdown",
      "metadata": {
        "id": "H7INPFT-XoHq"
      },
      "source": [
        "# Clasificación de imágenes usando CNN\n",
        "### Ejemplo de Entrenamiento\n",
        " * Chequeamos que SO estamos utilizando.\n",
        " * El ! adelante de los comandos indica que en vez de ejecutar código python, vamos a ejecutar un comando del sistema operativo."
      ]
    },
    {
      "cell_type": "code",
      "metadata": {
        "colab": {
          "base_uri": "https://localhost:8080/"
        },
        "id": "QaLWVdjtUZ5p",
        "outputId": "b132af65-51ac-454d-be9f-18e0874cf247"
      },
      "source": [
        "!lsb_release -a"
      ],
      "execution_count": null,
      "outputs": [
        {
          "output_type": "stream",
          "name": "stdout",
          "text": [
            "No LSB modules are available.\n",
            "Distributor ID:\tUbuntu\n",
            "Description:\tUbuntu 18.04.5 LTS\n",
            "Release:\t18.04\n",
            "Codename:\tbionic\n"
          ]
        }
      ]
    },
    {
      "cell_type": "markdown",
      "metadata": {
        "id": "zwn77xMH2riC"
      },
      "source": [
        " * Montamos nuestro drive en Colab (para poder acceder a los archivos donde vamos a colocar las imagenes para entrenar la neuronas).\n",
        " * Nos va a pedir una contraseña api que se obtiene al abrirse automaticamente una nueva pestaña.\n"
      ]
    },
    {
      "cell_type": "code",
      "metadata": {
        "id": "pfZginAPeSzL",
        "colab": {
          "base_uri": "https://localhost:8080/"
        },
        "outputId": "f74a970a-38d2-4209-e0b7-31655db33911"
      },
      "source": [
        "from google.colab import drive\n",
        "drive.mount(\"/content/drive\")\n"
      ],
      "execution_count": null,
      "outputs": [
        {
          "output_type": "stream",
          "name": "stdout",
          "text": [
            "Mounted at /content/drive\n"
          ]
        }
      ]
    },
    {
      "cell_type": "markdown",
      "metadata": {
        "id": "kETwy2pgTzFa"
      },
      "source": [
        " * Importamos las librerías que vamos a utilizar"
      ]
    },
    {
      "cell_type": "code",
      "metadata": {
        "id": "g2juY2zNj0HL"
      },
      "source": [
        "import tensorflow as tf\n",
        "from tensorflow.keras.preprocessing.image import ImageDataGenerator"
      ],
      "execution_count": null,
      "outputs": []
    },
    {
      "cell_type": "markdown",
      "metadata": {
        "id": "V8GImsO6Txng"
      },
      "source": [
        " * Descomprimimos nuestro dataset."
      ]
    },
    {
      "cell_type": "code",
      "metadata": {
        "id": "qMaRYsCxl5u_",
        "colab": {
          "base_uri": "https://localhost:8080/"
        },
        "outputId": "c01ac135-4556-40d4-90f2-1b1159f05da8"
      },
      "source": [
        "!unzip \"/content/drive/My Drive/colab/dataset3.zip\""
      ],
      "execution_count": null,
      "outputs": [
        {
          "output_type": "stream",
          "name": "stdout",
          "text": [
            "Archive:  /content/drive/My Drive/colab/dataset4.zip\n",
            "   creating: dataset4/\n",
            "   creating: dataset4/test/\n",
            "   creating: dataset4/test/limon/\n",
            "  inflating: dataset4/test/limon/limon (110).jpg  \n",
            "  inflating: dataset4/test/limon/limon (111).jpg  \n",
            "  inflating: dataset4/test/limon/limon (112).jpg  \n",
            "  inflating: dataset4/test/limon/limon (113).jpg  \n",
            "  inflating: dataset4/test/limon/limon (114).jpg  \n",
            "  inflating: dataset4/test/limon/limon (115).jpg  \n",
            "  inflating: dataset4/test/limon/limon (116).jpg  \n",
            "  inflating: dataset4/test/limon/limon (117).jpg  \n",
            "  inflating: dataset4/test/limon/limon (118).jpg  \n",
            "  inflating: dataset4/test/limon/limon (119).jpg  \n",
            "  inflating: dataset4/test/limon/limon (120).jpg  \n",
            "   creating: dataset4/test/manzana/\n",
            "  inflating: dataset4/test/manzana/manzana (102).jpg  \n",
            "  inflating: dataset4/test/manzana/manzana (103).jpg  \n",
            "  inflating: dataset4/test/manzana/manzana (104).jpg  \n",
            "  inflating: dataset4/test/manzana/manzana (105).jpg  \n",
            "  inflating: dataset4/test/manzana/manzana (106).jpg  \n",
            "  inflating: dataset4/test/manzana/manzana (107).jpg  \n",
            "  inflating: dataset4/test/manzana/manzana (108).jpg  \n",
            "  inflating: dataset4/test/manzana/manzana (109).jpg  \n",
            "  inflating: dataset4/test/manzana/manzana (110).jpg  \n",
            "  inflating: dataset4/test/manzana/manzana (111).jpg  \n",
            "   creating: dataset4/test/naranja/\n",
            "  inflating: dataset4/test/naranja/Naranja (106).jpg  \n",
            "  inflating: dataset4/test/naranja/Naranja (107).jpg  \n",
            "  inflating: dataset4/test/naranja/Naranja (108).jpg  \n",
            "  inflating: dataset4/test/naranja/Naranja (109).jpg  \n",
            "  inflating: dataset4/test/naranja/Naranja (110).jpg  \n",
            "  inflating: dataset4/test/naranja/Naranja (111).jpg  \n",
            "  inflating: dataset4/test/naranja/Naranja (112).jpg  \n",
            "  inflating: dataset4/test/naranja/Naranja (113).jpg  \n",
            "  inflating: dataset4/test/naranja/Naranja (114).jpg  \n",
            "  inflating: dataset4/test/naranja/Naranja (115).jpg  \n",
            "   creating: dataset4/train/\n",
            "   creating: dataset4/train/limon/\n",
            "  inflating: dataset4/train/limon/limon (1).jpg  \n",
            "  inflating: dataset4/train/limon/limon (10).jpg  \n",
            "  inflating: dataset4/train/limon/limon (100).jpg  \n",
            "  inflating: dataset4/train/limon/limon (101).jpg  \n",
            "  inflating: dataset4/train/limon/limon (102).jpg  \n",
            "  inflating: dataset4/train/limon/limon (103).jpg  \n",
            "  inflating: dataset4/train/limon/limon (104).jpg  \n",
            "  inflating: dataset4/train/limon/limon (105).jpg  \n",
            "  inflating: dataset4/train/limon/limon (106).jpg  \n",
            "  inflating: dataset4/train/limon/limon (107).jpg  \n",
            "  inflating: dataset4/train/limon/limon (108).jpg  \n",
            "  inflating: dataset4/train/limon/limon (109).jpg  \n",
            "  inflating: dataset4/train/limon/limon (11).jpg  \n",
            "  inflating: dataset4/train/limon/limon (12).jpg  \n",
            "  inflating: dataset4/train/limon/limon (13).jpg  \n",
            "  inflating: dataset4/train/limon/limon (14).jpg  \n",
            "  inflating: dataset4/train/limon/limon (15).jpg  \n",
            "  inflating: dataset4/train/limon/limon (16).jpg  \n",
            "  inflating: dataset4/train/limon/limon (17).jpg  \n",
            "  inflating: dataset4/train/limon/limon (18).jpg  \n",
            "  inflating: dataset4/train/limon/limon (19).jpg  \n",
            "  inflating: dataset4/train/limon/limon (2).jpg  \n",
            "  inflating: dataset4/train/limon/limon (20).jpg  \n",
            "  inflating: dataset4/train/limon/limon (21).jpg  \n",
            "  inflating: dataset4/train/limon/limon (22).jpg  \n",
            "  inflating: dataset4/train/limon/limon (23).jpg  \n",
            "  inflating: dataset4/train/limon/limon (24).jpg  \n",
            "  inflating: dataset4/train/limon/limon (25).jpg  \n",
            "  inflating: dataset4/train/limon/limon (26).jpg  \n",
            "  inflating: dataset4/train/limon/limon (27).jpg  \n",
            "  inflating: dataset4/train/limon/limon (28).jpg  \n",
            "  inflating: dataset4/train/limon/limon (29).jpg  \n",
            "  inflating: dataset4/train/limon/limon (3).jpg  \n",
            "  inflating: dataset4/train/limon/limon (30).jpg  \n",
            "  inflating: dataset4/train/limon/limon (31).jpg  \n",
            "  inflating: dataset4/train/limon/limon (32).jpg  \n",
            "  inflating: dataset4/train/limon/limon (33).jpg  \n",
            "  inflating: dataset4/train/limon/limon (34).jpg  \n",
            "  inflating: dataset4/train/limon/limon (35).jpg  \n",
            "  inflating: dataset4/train/limon/limon (36).jpg  \n",
            "  inflating: dataset4/train/limon/limon (37).jpg  \n",
            "  inflating: dataset4/train/limon/limon (38).jpg  \n",
            "  inflating: dataset4/train/limon/limon (39).jpg  \n",
            "  inflating: dataset4/train/limon/limon (4).jpg  \n",
            "  inflating: dataset4/train/limon/limon (40).jpg  \n",
            "  inflating: dataset4/train/limon/limon (41).jpg  \n",
            "  inflating: dataset4/train/limon/limon (42).jpg  \n",
            "  inflating: dataset4/train/limon/limon (43).jpg  \n",
            "  inflating: dataset4/train/limon/limon (44).jpg  \n",
            "  inflating: dataset4/train/limon/limon (45).jpg  \n",
            "  inflating: dataset4/train/limon/limon (46).jpg  \n",
            "  inflating: dataset4/train/limon/limon (47).jpg  \n",
            "  inflating: dataset4/train/limon/limon (48).jpg  \n",
            "  inflating: dataset4/train/limon/limon (49).jpg  \n",
            "  inflating: dataset4/train/limon/limon (5).jpg  \n",
            "  inflating: dataset4/train/limon/limon (50).jpg  \n",
            "  inflating: dataset4/train/limon/limon (51).jpg  \n",
            "  inflating: dataset4/train/limon/limon (52).jpg  \n",
            "  inflating: dataset4/train/limon/limon (53).jpg  \n",
            "  inflating: dataset4/train/limon/limon (54).jpg  \n",
            "  inflating: dataset4/train/limon/limon (55).jpg  \n",
            "  inflating: dataset4/train/limon/limon (56).jpg  \n",
            "  inflating: dataset4/train/limon/limon (57).jpg  \n",
            "  inflating: dataset4/train/limon/limon (58).jpg  \n",
            "  inflating: dataset4/train/limon/limon (59).jpg  \n",
            "  inflating: dataset4/train/limon/limon (6).jpg  \n",
            "  inflating: dataset4/train/limon/limon (60).jpg  \n",
            "  inflating: dataset4/train/limon/limon (61).jpg  \n",
            "  inflating: dataset4/train/limon/limon (62).jpg  \n",
            "  inflating: dataset4/train/limon/limon (63).jpg  \n",
            "  inflating: dataset4/train/limon/limon (64).jpg  \n",
            "  inflating: dataset4/train/limon/limon (65).jpg  \n",
            "  inflating: dataset4/train/limon/limon (66).jpg  \n",
            "  inflating: dataset4/train/limon/limon (67).jpg  \n",
            "  inflating: dataset4/train/limon/limon (68).jpg  \n",
            "  inflating: dataset4/train/limon/limon (69).jpg  \n",
            "  inflating: dataset4/train/limon/limon (7).jpg  \n",
            "  inflating: dataset4/train/limon/limon (70).jpg  \n",
            "  inflating: dataset4/train/limon/limon (71).jpg  \n",
            "  inflating: dataset4/train/limon/limon (72).jpg  \n",
            "  inflating: dataset4/train/limon/limon (73).jpg  \n",
            "  inflating: dataset4/train/limon/limon (74).jpg  \n",
            "  inflating: dataset4/train/limon/limon (75).jpg  \n",
            "  inflating: dataset4/train/limon/limon (76).jpg  \n",
            "  inflating: dataset4/train/limon/limon (77).jpg  \n",
            "  inflating: dataset4/train/limon/limon (78).jpg  \n",
            "  inflating: dataset4/train/limon/limon (79).jpg  \n",
            "  inflating: dataset4/train/limon/limon (8).jpg  \n",
            "  inflating: dataset4/train/limon/limon (80).jpg  \n",
            "  inflating: dataset4/train/limon/limon (81).jpg  \n",
            "  inflating: dataset4/train/limon/limon (82).jpg  \n",
            "  inflating: dataset4/train/limon/limon (83).jpg  \n",
            "  inflating: dataset4/train/limon/limon (84).jpg  \n",
            "  inflating: dataset4/train/limon/limon (85).jpg  \n",
            "  inflating: dataset4/train/limon/limon (86).jpg  \n",
            "  inflating: dataset4/train/limon/limon (87).jpg  \n",
            "  inflating: dataset4/train/limon/limon (88).jpg  \n",
            "  inflating: dataset4/train/limon/limon (89).jpg  \n",
            "  inflating: dataset4/train/limon/limon (9).jpg  \n",
            "  inflating: dataset4/train/limon/limon (90).jpg  \n",
            "  inflating: dataset4/train/limon/limon (91).jpg  \n",
            "  inflating: dataset4/train/limon/limon (92).jpg  \n",
            "  inflating: dataset4/train/limon/limon (93).jpg  \n",
            "  inflating: dataset4/train/limon/limon (94).jpg  \n",
            "  inflating: dataset4/train/limon/limon (95).jpg  \n",
            "  inflating: dataset4/train/limon/limon (96).jpg  \n",
            "  inflating: dataset4/train/limon/limon (97).jpg  \n",
            "  inflating: dataset4/train/limon/limon (98).jpg  \n",
            "  inflating: dataset4/train/limon/limon (99).jpg  \n",
            "   creating: dataset4/train/manzana/\n",
            "  inflating: dataset4/train/manzana/manzana (1).jpg  \n",
            "  inflating: dataset4/train/manzana/manzana (10).jpg  \n",
            "  inflating: dataset4/train/manzana/manzana (100).jpg  \n",
            "  inflating: dataset4/train/manzana/manzana (101).jpg  \n",
            "  inflating: dataset4/train/manzana/manzana (11).jpg  \n",
            "  inflating: dataset4/train/manzana/manzana (112).jpg  \n",
            "  inflating: dataset4/train/manzana/manzana (113).jpg  \n",
            "  inflating: dataset4/train/manzana/manzana (114).jpg  \n",
            "  inflating: dataset4/train/manzana/manzana (115).jpg  \n",
            "  inflating: dataset4/train/manzana/manzana (116).jpg  \n",
            "  inflating: dataset4/train/manzana/manzana (117).jpg  \n",
            "  inflating: dataset4/train/manzana/manzana (118).jpg  \n",
            "  inflating: dataset4/train/manzana/manzana (12).jpg  \n",
            "  inflating: dataset4/train/manzana/manzana (13).jpg  \n",
            "  inflating: dataset4/train/manzana/manzana (14).jpg  \n",
            "  inflating: dataset4/train/manzana/manzana (15).jpg  \n",
            "  inflating: dataset4/train/manzana/manzana (16).jpg  \n",
            "  inflating: dataset4/train/manzana/manzana (17).jpg  \n",
            "  inflating: dataset4/train/manzana/manzana (18).jpg  \n",
            "  inflating: dataset4/train/manzana/manzana (19).jpg  \n",
            "  inflating: dataset4/train/manzana/manzana (2).jpg  \n",
            "  inflating: dataset4/train/manzana/manzana (20).jpg  \n",
            "  inflating: dataset4/train/manzana/manzana (21).jpg  \n",
            "  inflating: dataset4/train/manzana/manzana (22).jpg  \n",
            "  inflating: dataset4/train/manzana/manzana (23).jpg  \n",
            "  inflating: dataset4/train/manzana/manzana (24).jpg  \n",
            "  inflating: dataset4/train/manzana/manzana (25).jpg  \n",
            "  inflating: dataset4/train/manzana/manzana (26).jpg  \n",
            "  inflating: dataset4/train/manzana/manzana (27).jpg  \n",
            "  inflating: dataset4/train/manzana/manzana (28).jpg  \n",
            "  inflating: dataset4/train/manzana/manzana (29).jpg  \n",
            "  inflating: dataset4/train/manzana/manzana (3).jpg  \n",
            "  inflating: dataset4/train/manzana/manzana (30).jpg  \n",
            "  inflating: dataset4/train/manzana/manzana (31).jpg  \n",
            "  inflating: dataset4/train/manzana/manzana (32).jpg  \n",
            "  inflating: dataset4/train/manzana/manzana (33).jpg  \n",
            "  inflating: dataset4/train/manzana/manzana (34).jpg  \n",
            "  inflating: dataset4/train/manzana/manzana (35).jpg  \n",
            "  inflating: dataset4/train/manzana/manzana (36).jpg  \n",
            "  inflating: dataset4/train/manzana/manzana (37).jpg  \n",
            "  inflating: dataset4/train/manzana/manzana (38).jpg  \n",
            "  inflating: dataset4/train/manzana/manzana (39).jpg  \n",
            "  inflating: dataset4/train/manzana/manzana (4).jpg  \n",
            "  inflating: dataset4/train/manzana/manzana (40).jpg  \n",
            "  inflating: dataset4/train/manzana/manzana (41).jpg  \n",
            "  inflating: dataset4/train/manzana/manzana (42).jpg  \n",
            "  inflating: dataset4/train/manzana/manzana (43).jpg  \n",
            "  inflating: dataset4/train/manzana/manzana (44).jpg  \n",
            "  inflating: dataset4/train/manzana/manzana (45).jpg  \n",
            "  inflating: dataset4/train/manzana/manzana (46).jpg  \n",
            "  inflating: dataset4/train/manzana/manzana (47).jpg  \n",
            "  inflating: dataset4/train/manzana/manzana (48).jpg  \n",
            "  inflating: dataset4/train/manzana/manzana (49).jpg  \n",
            "  inflating: dataset4/train/manzana/manzana (5).jpg  \n",
            "  inflating: dataset4/train/manzana/manzana (50).jpg  \n",
            "  inflating: dataset4/train/manzana/manzana (51).jpg  \n",
            "  inflating: dataset4/train/manzana/manzana (52).jpg  \n",
            "  inflating: dataset4/train/manzana/manzana (53).jpg  \n",
            "  inflating: dataset4/train/manzana/manzana (54).jpg  \n",
            "  inflating: dataset4/train/manzana/manzana (55).jpg  \n",
            "  inflating: dataset4/train/manzana/manzana (56).jpg  \n",
            "  inflating: dataset4/train/manzana/manzana (57).jpg  \n",
            "  inflating: dataset4/train/manzana/manzana (58).jpg  \n",
            "  inflating: dataset4/train/manzana/manzana (59).jpg  \n",
            "  inflating: dataset4/train/manzana/manzana (6).jpg  \n",
            "  inflating: dataset4/train/manzana/manzana (60).jpg  \n",
            "  inflating: dataset4/train/manzana/manzana (61).jpg  \n",
            "  inflating: dataset4/train/manzana/manzana (62).jpg  \n",
            "  inflating: dataset4/train/manzana/manzana (63).jpg  \n",
            "  inflating: dataset4/train/manzana/manzana (64).jpg  \n",
            "  inflating: dataset4/train/manzana/manzana (65).jpg  \n",
            "  inflating: dataset4/train/manzana/manzana (66).jpg  \n",
            "  inflating: dataset4/train/manzana/manzana (67).jpg  \n",
            "  inflating: dataset4/train/manzana/manzana (68).jpg  \n",
            "  inflating: dataset4/train/manzana/manzana (69).jpg  \n",
            "  inflating: dataset4/train/manzana/manzana (7).jpg  \n",
            "  inflating: dataset4/train/manzana/manzana (70).jpg  \n",
            "  inflating: dataset4/train/manzana/manzana (71).jpg  \n",
            "  inflating: dataset4/train/manzana/manzana (72).jpg  \n",
            "  inflating: dataset4/train/manzana/manzana (73).jpg  \n",
            "  inflating: dataset4/train/manzana/manzana (74).jpg  \n",
            "  inflating: dataset4/train/manzana/manzana (75).jpg  \n",
            "  inflating: dataset4/train/manzana/manzana (76).jpg  \n",
            "  inflating: dataset4/train/manzana/manzana (77).jpg  \n",
            "  inflating: dataset4/train/manzana/manzana (78).jpg  \n",
            "  inflating: dataset4/train/manzana/manzana (79).jpg  \n",
            "  inflating: dataset4/train/manzana/manzana (8).jpg  \n",
            "  inflating: dataset4/train/manzana/manzana (80).jpg  \n",
            "  inflating: dataset4/train/manzana/manzana (81).jpg  \n",
            "  inflating: dataset4/train/manzana/manzana (82).jpg  \n",
            "  inflating: dataset4/train/manzana/manzana (83).jpg  \n",
            "  inflating: dataset4/train/manzana/manzana (84).jpg  \n",
            "  inflating: dataset4/train/manzana/manzana (85).jpg  \n",
            "  inflating: dataset4/train/manzana/manzana (86).jpg  \n",
            "  inflating: dataset4/train/manzana/manzana (87).jpg  \n",
            "  inflating: dataset4/train/manzana/manzana (88).jpg  \n",
            "  inflating: dataset4/train/manzana/manzana (89).jpg  \n",
            "  inflating: dataset4/train/manzana/manzana (9).jpg  \n",
            "  inflating: dataset4/train/manzana/manzana (90).jpg  \n",
            "  inflating: dataset4/train/manzana/manzana (91).jpg  \n",
            "  inflating: dataset4/train/manzana/manzana (92).jpg  \n",
            "  inflating: dataset4/train/manzana/manzana (93).jpg  \n",
            "  inflating: dataset4/train/manzana/manzana (94).jpg  \n",
            "  inflating: dataset4/train/manzana/manzana (95).jpg  \n",
            "  inflating: dataset4/train/manzana/manzana (96).jpg  \n",
            "  inflating: dataset4/train/manzana/manzana (97).jpg  \n",
            "  inflating: dataset4/train/manzana/manzana (98).jpg  \n",
            "  inflating: dataset4/train/manzana/manzana (99).jpg  \n",
            "   creating: dataset4/train/naranja/\n",
            "  inflating: dataset4/train/naranja/Naranja (1).jpg  \n",
            "  inflating: dataset4/train/naranja/Naranja (10).jpg  \n",
            "  inflating: dataset4/train/naranja/Naranja (100).jpg  \n",
            "  inflating: dataset4/train/naranja/Naranja (101).jpg  \n",
            "  inflating: dataset4/train/naranja/Naranja (102).jpg  \n",
            "  inflating: dataset4/train/naranja/Naranja (103).jpg  \n",
            "  inflating: dataset4/train/naranja/Naranja (104).jpg  \n",
            "  inflating: dataset4/train/naranja/Naranja (105).jpg  \n",
            "  inflating: dataset4/train/naranja/Naranja (11).jpg  \n",
            "  inflating: dataset4/train/naranja/Naranja (12).jpg  \n",
            "  inflating: dataset4/train/naranja/Naranja (13).jpg  \n",
            "  inflating: dataset4/train/naranja/Naranja (14).jpg  \n",
            "  inflating: dataset4/train/naranja/Naranja (15).jpg  \n",
            "  inflating: dataset4/train/naranja/Naranja (16).jpg  \n",
            "  inflating: dataset4/train/naranja/Naranja (17).jpg  \n",
            "  inflating: dataset4/train/naranja/Naranja (18).jpg  \n",
            "  inflating: dataset4/train/naranja/Naranja (19).jpg  \n",
            "  inflating: dataset4/train/naranja/Naranja (2).jpg  \n",
            "  inflating: dataset4/train/naranja/Naranja (20).jpg  \n",
            "  inflating: dataset4/train/naranja/Naranja (21).jpg  \n",
            "  inflating: dataset4/train/naranja/Naranja (22).jpg  \n",
            "  inflating: dataset4/train/naranja/Naranja (23).jpg  \n",
            "  inflating: dataset4/train/naranja/Naranja (24).jpg  \n",
            "  inflating: dataset4/train/naranja/Naranja (25).jpg  \n",
            "  inflating: dataset4/train/naranja/Naranja (26).jpg  \n",
            "  inflating: dataset4/train/naranja/Naranja (27).jpg  \n",
            "  inflating: dataset4/train/naranja/Naranja (28).jpg  \n",
            "  inflating: dataset4/train/naranja/Naranja (29).jpg  \n",
            "  inflating: dataset4/train/naranja/Naranja (3).jpg  \n",
            "  inflating: dataset4/train/naranja/Naranja (30).jpg  \n",
            "  inflating: dataset4/train/naranja/Naranja (31).jpg  \n",
            "  inflating: dataset4/train/naranja/Naranja (32).jpg  \n",
            "  inflating: dataset4/train/naranja/Naranja (33).jpg  \n",
            "  inflating: dataset4/train/naranja/Naranja (34).jpg  \n",
            "  inflating: dataset4/train/naranja/Naranja (35).jpg  \n",
            "  inflating: dataset4/train/naranja/Naranja (36).jpg  \n",
            "  inflating: dataset4/train/naranja/Naranja (37).jpg  \n",
            "  inflating: dataset4/train/naranja/Naranja (38).jpg  \n",
            "  inflating: dataset4/train/naranja/Naranja (39).jpg  \n",
            "  inflating: dataset4/train/naranja/Naranja (4).jpg  \n",
            "  inflating: dataset4/train/naranja/Naranja (40).jpg  \n",
            "  inflating: dataset4/train/naranja/Naranja (41).jpg  \n",
            "  inflating: dataset4/train/naranja/Naranja (42).jpg  \n",
            "  inflating: dataset4/train/naranja/Naranja (43).jpg  \n",
            "  inflating: dataset4/train/naranja/Naranja (44).jpg  \n",
            "  inflating: dataset4/train/naranja/Naranja (45).jpg  \n",
            "  inflating: dataset4/train/naranja/Naranja (46).jpg  \n",
            "  inflating: dataset4/train/naranja/Naranja (47).jpg  \n",
            "  inflating: dataset4/train/naranja/Naranja (48).jpg  \n",
            "  inflating: dataset4/train/naranja/Naranja (49).jpg  \n",
            "  inflating: dataset4/train/naranja/Naranja (5).jpg  \n",
            "  inflating: dataset4/train/naranja/Naranja (50).jpg  \n",
            "  inflating: dataset4/train/naranja/Naranja (51).jpg  \n",
            "  inflating: dataset4/train/naranja/Naranja (52).jpg  \n",
            "  inflating: dataset4/train/naranja/Naranja (53).jpg  \n",
            "  inflating: dataset4/train/naranja/Naranja (54).jpg  \n",
            "  inflating: dataset4/train/naranja/Naranja (55).jpg  \n",
            "  inflating: dataset4/train/naranja/Naranja (56).jpg  \n",
            "  inflating: dataset4/train/naranja/Naranja (57).jpg  \n",
            "  inflating: dataset4/train/naranja/Naranja (58).jpg  \n",
            "  inflating: dataset4/train/naranja/Naranja (59).jpg  \n",
            "  inflating: dataset4/train/naranja/Naranja (6).jpg  \n",
            "  inflating: dataset4/train/naranja/Naranja (60).jpg  \n",
            "  inflating: dataset4/train/naranja/Naranja (61).jpg  \n",
            "  inflating: dataset4/train/naranja/Naranja (62).jpg  \n",
            "  inflating: dataset4/train/naranja/Naranja (63).jpg  \n",
            "  inflating: dataset4/train/naranja/Naranja (64).jpg  \n",
            "  inflating: dataset4/train/naranja/Naranja (65).jpg  \n",
            "  inflating: dataset4/train/naranja/Naranja (66).jpg  \n",
            "  inflating: dataset4/train/naranja/Naranja (67).jpg  \n",
            "  inflating: dataset4/train/naranja/Naranja (68).jpg  \n",
            "  inflating: dataset4/train/naranja/Naranja (69).jpg  \n",
            "  inflating: dataset4/train/naranja/Naranja (7).jpg  \n",
            "  inflating: dataset4/train/naranja/Naranja (70).jpg  \n",
            "  inflating: dataset4/train/naranja/Naranja (71).jpg  \n",
            "  inflating: dataset4/train/naranja/Naranja (72).jpg  \n",
            "  inflating: dataset4/train/naranja/Naranja (73).jpg  \n",
            "  inflating: dataset4/train/naranja/Naranja (74).jpg  \n",
            "  inflating: dataset4/train/naranja/Naranja (75).jpg  \n",
            "  inflating: dataset4/train/naranja/Naranja (76).jpg  \n",
            "  inflating: dataset4/train/naranja/Naranja (77).jpg  \n",
            "  inflating: dataset4/train/naranja/Naranja (78).jpg  \n",
            "  inflating: dataset4/train/naranja/Naranja (79).jpg  \n",
            "  inflating: dataset4/train/naranja/Naranja (8).jpg  \n",
            "  inflating: dataset4/train/naranja/Naranja (80).jpg  \n",
            "  inflating: dataset4/train/naranja/Naranja (81).jpg  \n",
            "  inflating: dataset4/train/naranja/Naranja (82).jpg  \n",
            "  inflating: dataset4/train/naranja/Naranja (83).jpg  \n",
            "  inflating: dataset4/train/naranja/Naranja (84).jpg  \n",
            "  inflating: dataset4/train/naranja/Naranja (85).jpg  \n",
            "  inflating: dataset4/train/naranja/Naranja (86).jpg  \n",
            "  inflating: dataset4/train/naranja/Naranja (87).jpg  \n",
            "  inflating: dataset4/train/naranja/Naranja (88).jpg  \n",
            "  inflating: dataset4/train/naranja/Naranja (89).jpg  \n",
            "  inflating: dataset4/train/naranja/Naranja (9).jpg  \n",
            "  inflating: dataset4/train/naranja/Naranja (90).jpg  \n",
            "  inflating: dataset4/train/naranja/Naranja (91).jpg  \n",
            "  inflating: dataset4/train/naranja/Naranja (92).jpg  \n",
            "  inflating: dataset4/train/naranja/Naranja (93).jpg  \n",
            "  inflating: dataset4/train/naranja/Naranja (94).jpg  \n",
            "  inflating: dataset4/train/naranja/Naranja (95).jpg  \n",
            "  inflating: dataset4/train/naranja/Naranja (96).jpg  \n",
            "  inflating: dataset4/train/naranja/Naranja (97).jpg  \n",
            "  inflating: dataset4/train/naranja/Naranja (98).jpg  \n",
            "  inflating: dataset4/train/naranja/Naranja (99).jpg  \n"
          ]
        }
      ]
    },
    {
      "cell_type": "markdown",
      "metadata": {
        "id": "93rvsXehUsNR"
      },
      "source": [
        " * Creamos la clase que usaremos para crear los datasets.\n",
        " * Creamos el conjunto de entrenamiento y el de test."
      ]
    },
    {
      "cell_type": "code",
      "metadata": {
        "id": "22WHfxS3lYvS",
        "colab": {
          "base_uri": "https://localhost:8080/"
        },
        "outputId": "7fe84797-1800-4054-d035-2d5fc04d1ad7"
      },
      "source": [
        "train_datagen = ImageDataGenerator(rescale = 1./255,   \n",
        "shear_range = 0.2,\n",
        "zoom_range = 0.2)                                                             #Creamos un objeto del tipo imagedatagenerator para las imagenes de entrenamiento\n",
        "                                                                              #configurando la escala, el zoom y el estiramiento de las imagenes\n",
        "\n",
        "test_datagen = ImageDataGenerator(rescale = 1./255)                           #Creamos un objeto del tipo imagedatagenerator para las imagenes de testero, configurando la escala\n",
        "\n",
        "training_set = train_datagen.flow_from_directory('/content/dataset3/train',   #Coloco las imagenes que se encuentran en la carpeta train en el objeto creado anteriormente\n",
        "target_size = (64, 64),                                                       #Cambio el tamaño a 64x64, esto se debe a que las redes neuronales tienen una x cantidad de neutronas de entradas y no se le puede ingresar una imagen de tamaño superior\n",
        "batch_size = 32,                                                              #Cuantas muestras de entrenamiento se le va a dar por cada interacion de descenso de gradiente. Mientras mayor es el numero, mayor procesamiento se necesitara en el entrenamiento.\n",
        "class_mode = 'binary')                                                        #Modelo binario para dos conjuntos de clases\n",
        "                                                                              #class_mode puede ser categorical\n",
        "\n",
        "test_set = test_datagen.flow_from_directory('/content/dataset3/test',         #Coloco las imagenes que se encuentran en la carpeta test en el objeto creado anteriormente\n",
        "target_size = (64, 64),                                                       #Cambio el tamaño a 64x64, esto se debe a que las redes neuronales tienen una x cantidad de neutronas de entradas y no se le puede ingresar una imagen de tamaño superior\n",
        "batch_size = 32,                                                              #Cuantas muestras de entrenamiento se le va a dar por cada interacion de descenso de gradiente. Mientras mayor es el numero, mayor procesamiento se necesitara en el entrenamiento.\n",
        "class_mode = 'binary')                                                        #Modelo binario para dos conjuntos de clases"
      ],
      "execution_count": null,
      "outputs": [
        {
          "output_type": "stream",
          "name": "stdout",
          "text": [
            "Found 213 images belonging to 2 classes.\n",
            "Found 20 images belonging to 2 classes.\n"
          ]
        }
      ]
    },
    {
      "cell_type": "markdown",
      "metadata": {
        "id": "rb8vB-DNVVKk"
      },
      "source": [
        " * Creamos nuestro modelo"
      ]
    },
    {
      "cell_type": "code",
      "metadata": {
        "id": "SiSA6JpDPdZc"
      },
      "source": [
        "model = tf.keras.models.Sequential([            \n",
        "  tf.keras.layers.experimental.preprocessing.Resizing(64, 64,interpolation='bilinear'), #Cambio tamaño de las imagenes a 64x64 (no es necesario ya que se hizo en el paso anterior)                         \n",
        "  tf.keras.layers.Conv2D(6, (6, 6), activation='relu', input_shape=(64, 64, 3)),        #Capa de convolucion 1                          \n",
        "  tf.keras.layers.Conv2D(12, (5, 5), strides=(2, 2), activation='relu'),                #Capa de convolucion 2\n",
        "  tf.keras.layers.Conv2D(24, (4, 4), strides=(2, 2), activation='relu'),                #Capa de convolucion 3\n",
        "  tf.keras.layers.Flatten(),                                                            #Capa de alisado, la entrada deja de ser una matriz y pasa a ser un vector de una sola dimención\n",
        "  tf.keras.layers.Dropout(rate=.25),                                                    #La capa Dropout establece aleatoriamente las unidades de entrada en 0 con una frecuencia de rate en cada paso durante el tiempo de entrenamiento, lo que ayuda a evitar el sobreajuste. Las entradas que no se establecen en 0 se escalan en 1/(1 - tasa) de modo que la suma de todas las entradas no cambia.\n",
        "  tf.keras.layers.Dense(200, activation='relu'),                                        #La capa densa es la capa regular de red neuronal profundamente conectada. Es la capa más común y de uso frecuente. La capa densa realiza la siguiente operación en la entrada y devuelve la salida. output = activation(dot(input, kernel) + bias)\n",
        "  tf.keras.layers.Dense(2, activation='softmax')                                        #Capa de activacion softmax para x clases (en este caso 2)\n",
        "])                                                                              \n",
        "\n",
        "optimizer = tf.keras.optimizers.Adam(decay=.0001)                                       #Optimizador adam con un decaimiento de la tasa de aprendizaje\n",
        "\n",
        "model.compile(optimizer=optimizer,                                              \n",
        "              loss='sparse_categorical_crossentropy',                           \n",
        "              metrics=['accuracy'])"
      ],
      "execution_count": null,
      "outputs": []
    },
    {
      "cell_type": "markdown",
      "metadata": {
        "id": "7683H4IfVktJ"
      },
      "source": [
        " * Entrenamos el modelo en el conjunto de entrenamiento"
      ]
    },
    {
      "cell_type": "code",
      "metadata": {
        "id": "JKZOeSHonjN3",
        "colab": {
          "base_uri": "https://localhost:8080/"
        },
        "outputId": "619bc09c-0815-4246-9815-40010041a5ea"
      },
      "source": [
        "model.fit(training_set, epochs = 25)"
      ],
      "execution_count": null,
      "outputs": [
        {
          "output_type": "stream",
          "name": "stdout",
          "text": [
            "Epoch 1/25\n",
            "7/7 [==============================] - 2s 221ms/step - loss: 2.6740e-05 - accuracy: 1.0000\n",
            "Epoch 2/25\n",
            "7/7 [==============================] - 2s 218ms/step - loss: 1.8803e-05 - accuracy: 1.0000\n",
            "Epoch 3/25\n",
            "7/7 [==============================] - 2s 216ms/step - loss: 1.2448e-05 - accuracy: 1.0000\n",
            "Epoch 4/25\n",
            "7/7 [==============================] - 2s 221ms/step - loss: 7.6525e-05 - accuracy: 1.0000\n",
            "Epoch 5/25\n",
            "7/7 [==============================] - 2s 233ms/step - loss: 1.9129e-05 - accuracy: 1.0000\n",
            "Epoch 6/25\n",
            "7/7 [==============================] - 2s 216ms/step - loss: 1.2282e-05 - accuracy: 1.0000\n",
            "Epoch 7/25\n",
            "7/7 [==============================] - 2s 219ms/step - loss: 4.8862e-05 - accuracy: 1.0000\n",
            "Epoch 8/25\n",
            "7/7 [==============================] - 2s 212ms/step - loss: 8.2053e-06 - accuracy: 1.0000\n",
            "Epoch 9/25\n",
            "7/7 [==============================] - 2s 225ms/step - loss: 6.0584e-06 - accuracy: 1.0000\n",
            "Epoch 10/25\n",
            "7/7 [==============================] - 2s 213ms/step - loss: 1.9410e-05 - accuracy: 1.0000\n",
            "Epoch 11/25\n",
            "7/7 [==============================] - 2s 213ms/step - loss: 1.7156e-04 - accuracy: 1.0000\n",
            "Epoch 12/25\n",
            "7/7 [==============================] - 2s 215ms/step - loss: 3.9909e-05 - accuracy: 1.0000\n",
            "Epoch 13/25\n",
            "7/7 [==============================] - 2s 237ms/step - loss: 9.9062e-06 - accuracy: 1.0000\n",
            "Epoch 14/25\n",
            "7/7 [==============================] - 2s 212ms/step - loss: 1.5811e-05 - accuracy: 1.0000\n",
            "Epoch 15/25\n",
            "7/7 [==============================] - 2s 215ms/step - loss: 1.1144e-05 - accuracy: 1.0000\n",
            "Epoch 16/25\n",
            "7/7 [==============================] - 2s 216ms/step - loss: 9.1972e-06 - accuracy: 1.0000\n",
            "Epoch 17/25\n",
            "7/7 [==============================] - 2s 265ms/step - loss: 7.9912e-06 - accuracy: 1.0000\n",
            "Epoch 18/25\n",
            "7/7 [==============================] - 2s 286ms/step - loss: 6.8554e-06 - accuracy: 1.0000\n",
            "Epoch 19/25\n",
            "7/7 [==============================] - 2s 218ms/step - loss: 9.0484e-06 - accuracy: 1.0000\n",
            "Epoch 20/25\n",
            "7/7 [==============================] - 2s 210ms/step - loss: 9.6863e-06 - accuracy: 1.0000\n",
            "Epoch 21/25\n",
            "7/7 [==============================] - 2s 219ms/step - loss: 1.4338e-05 - accuracy: 1.0000\n",
            "Epoch 22/25\n",
            "7/7 [==============================] - 2s 212ms/step - loss: 6.8923e-06 - accuracy: 1.0000\n",
            "Epoch 23/25\n",
            "7/7 [==============================] - 2s 226ms/step - loss: 4.0923e-06 - accuracy: 1.0000\n",
            "Epoch 24/25\n",
            "7/7 [==============================] - 2s 214ms/step - loss: 4.0332e-06 - accuracy: 1.0000\n",
            "Epoch 25/25\n",
            "7/7 [==============================] - 2s 216ms/step - loss: 6.3697e-06 - accuracy: 1.0000\n"
          ]
        },
        {
          "output_type": "execute_result",
          "data": {
            "text/plain": [
              "<keras.callbacks.History at 0x7f8d621b8950>"
            ]
          },
          "metadata": {},
          "execution_count": 31
        }
      ]
    },
    {
      "cell_type": "markdown",
      "metadata": {
        "id": "1jv9UKg4VpHx"
      },
      "source": [
        " * Evaluamos el modelo en el conjunto de test"
      ]
    },
    {
      "cell_type": "code",
      "metadata": {
        "id": "kU_aukkbsO55",
        "colab": {
          "base_uri": "https://localhost:8080/"
        },
        "outputId": "d0b65bce-9c52-45c8-d2a1-69cb8739cdde"
      },
      "source": [
        "model.evaluate(test_set)"
      ],
      "execution_count": null,
      "outputs": [
        {
          "output_type": "stream",
          "name": "stdout",
          "text": [
            "1/1 [==============================] - 0s 330ms/step - loss: 2.2054e-07 - accuracy: 1.0000\n"
          ]
        },
        {
          "output_type": "execute_result",
          "data": {
            "text/plain": [
              "[2.2053693271573138e-07, 1.0]"
            ]
          },
          "metadata": {},
          "execution_count": 15
        }
      ]
    },
    {
      "cell_type": "markdown",
      "metadata": {
        "id": "HvYvRa64XCs8"
      },
      "source": [
        " * Evaluamos sobre algunas imágenes de test individuales."
      ]
    },
    {
      "cell_type": "code",
      "metadata": {
        "id": "_BSp41oRs2R1",
        "colab": {
          "base_uri": "https://localhost:8080/"
        },
        "outputId": "f8a9208f-664c-4c77-abd5-685163ae831c"
      },
      "source": [
        "b = test_set.next()       # Obtengo los valores de las imagenes test\n",
        "print(b[1][0:10])         # Imprimo las etiquetas verdaderas\n",
        "model.predict(b[0][0:10]) # Calculo las probabilidades con el modelo"
      ],
      "execution_count": null,
      "outputs": [
        {
          "output_type": "stream",
          "name": "stdout",
          "text": [
            "[1. 1. 0. 0. 1. 1. 0. 1. 0. 0.]\n"
          ]
        },
        {
          "output_type": "execute_result",
          "data": {
            "text/plain": [
              "array([[1.7375301e-09, 1.0000000e+00],\n",
              "       [3.3349632e-12, 1.0000000e+00],\n",
              "       [1.0000000e+00, 3.7211517e-08],\n",
              "       [9.9992406e-01, 7.5894699e-05],\n",
              "       [5.0046978e-10, 1.0000000e+00],\n",
              "       [1.1086176e-10, 1.0000000e+00],\n",
              "       [1.0000000e+00, 3.1508563e-08],\n",
              "       [1.7572095e-10, 1.0000000e+00],\n",
              "       [1.0000000e+00, 4.7979437e-08],\n",
              "       [1.0000000e+00, 2.0891017e-08]], dtype=float32)"
            ]
          },
          "metadata": {},
          "execution_count": 32
        }
      ]
    },
    {
      "cell_type": "markdown",
      "source": [
        " * Aplicamos el modelo y predecimo una imagen nueva"
      ],
      "metadata": {
        "id": "Ytmazi8lH8wP"
      }
    },
    {
      "cell_type": "code",
      "source": [
        "#Cargo archivo desde la PC\n",
        "from google.colab import files\n",
        "uploaded = files.upload()                                           #Subo imagen a colab\n",
        "path=list(uploaded.keys())                                          #Obtengo el path de la imagen cargada\n",
        "\n",
        "#Convierto imagen en tensor\n",
        "from tensorflow.keras.preprocessing import image\n",
        "import numpy as np\n",
        "import matplotlib.pyplot as plt\n",
        "\n",
        "img = image.load_img('/content/'+path[0], target_size=(64, 64))    #Cargo la imagen desde colab\n",
        "img_array = image.img_to_array(img)                                #La convierto a array\n",
        "img_batch = np.expand_dims(img_array, axis=0)                      #La convierto a tensor\n",
        "\n",
        "#Realizo predicion\n",
        "prediction = model.predict(img_batch)                              #Obtengo la prediccion de la imagen\n",
        "print (prediction)                                                 #Imprimo resultado\n",
        "\n",
        "if prediction[0][0] > prediction[0][1]:                            #Si la mas probable que sea de la clase 1\n",
        "  if prediction[0][0] > 0.8:                                       #Si la probabilidad es mayor al 80%\n",
        "    name=str(prediction[0][0]*100)+\"% Manzana\"                     #Indico que es una manzana\n",
        "  else:                                                            #Sino\n",
        "    name=\"No es manzana ni naranja\"                                #Indico que no es manzana ni naranja\n",
        "else:                                                              #Si es mas probable que sea de la clase 2\n",
        "  if prediction[0][1] > 0.8:                                       #Si la probabilidad es mayor al 80%\n",
        "    name=str(prediction[0][1]*100)+\"% Naranja\"                     #Indico que es naranja\n",
        "  else:                                                            #Sino\n",
        "    name=\"No es manzana ni naranja\"                                #Indico que no es manzana ni naranja\n",
        "\n",
        "plt.imshow(img)                                                    #Muestro imagen\n",
        "plt.title(name)                                                    #Imprimo titulo\n",
        "plt.axis(\"off\")\n",
        "plt.show()\n"
      ],
      "metadata": {
        "colab": {
          "resources": {
            "http://localhost:8080/nbextensions/google.colab/files.js": {
              "data": "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",
              "ok": true,
              "headers": [
                [
                  "content-type",
                  "application/javascript"
                ]
              ],
              "status": 200,
              "status_text": ""
            }
          },
          "base_uri": "https://localhost:8080/",
          "height": 337
        },
        "id": "gwHCnSWc8idU",
        "outputId": "dab67b88-bbb6-492f-8358-1709a3b7ae23"
      },
      "execution_count": null,
      "outputs": [
        {
          "output_type": "display_data",
          "data": {
            "text/plain": [
              "<IPython.core.display.HTML object>"
            ],
            "text/html": [
              "\n",
              "     <input type=\"file\" id=\"files-872db077-161c-4fd5-8b9e-6bfd91abe74b\" name=\"files[]\" multiple disabled\n",
              "        style=\"border:none\" />\n",
              "     <output id=\"result-872db077-161c-4fd5-8b9e-6bfd91abe74b\">\n",
              "      Upload widget is only available when the cell has been executed in the\n",
              "      current browser session. Please rerun this cell to enable.\n",
              "      </output>\n",
              "      <script src=\"/nbextensions/google.colab/files.js\"></script> "
            ]
          },
          "metadata": {}
        },
        {
          "output_type": "stream",
          "name": "stdout",
          "text": [
            "Saving x5.jpg to x5.jpg\n",
            "[[0. 1.]]\n"
          ]
        },
        {
          "output_type": "display_data",
          "data": {
            "text/plain": [
              "<Figure size 432x288 with 1 Axes>"
            ],
            "image/png": "[encoded data removed]"
          },
          "metadata": {
            "needs_background": "light"
          }
        }
      ]
    }
  ]
}